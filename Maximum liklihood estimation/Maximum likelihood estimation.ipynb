{
 "cells": [
  {
   "cell_type": "code",
   "execution_count": null,
   "metadata": {},
   "outputs": [],
   "source": [
    "import tensorflow as tf\n",
    "import numpy as np\n",
    "import matplotlib.pyplot as plt\n",
    "from numpy.random import multivariate_normal,permutation\n",
    "import pandas as pd\n",
    "from pandas import DataFrame,Series"
   ]
  },
  {
   "cell_type": "code",
   "execution_count": 4,
   "metadata": {},
   "outputs": [],
   "source": [
    "#시드를 명시적으로 지정하면 매번 동일한 데이터가 생성되기 때문에\n",
    "#난수를 이용하더라도 동일한 데이터로 반복 테스트 할 수 있다.\n",
    "np.random.seed(20160512)"
   ]
  },
  {
   "cell_type": "code",
   "execution_count": 5,
   "metadata": {},
   "outputs": [],
   "source": [
    "# n0는 갯수, mu0는 평균, variance0 은 편차를 의미\n",
    "# t항목같은 경우 감염인지 비감염인지를 판정해주는 항목\n",
    "n0,mu0,variance0 = 20,[10,11],20\n",
    "data0 = multivariate_normal(mu0,np.eye(2)*variance0,n0)\n",
    "df0 = DataFrame(data0,columns=['x1','x2'])\n",
    "df0['t'] = 0"
   ]
  },
  {
   "cell_type": "code",
   "execution_count": 6,
   "metadata": {},
   "outputs": [],
   "source": [
    "n1,mu1,variance1 = 15,[18,20],22\n",
    "data1 = multivariate_normal(mu1,np.eye(2)*variance1,n1)\n",
    "df1 = DataFrame(data1,columns=['x1','x2'])\n",
    "df1['t'] = 1\n",
    "\n",
    "# ignore_index같은 경우 두 데이터를 합쳤을 때 index가 0부터 연속하도록 한다.\n",
    "df = pd.concat([df0,df1],ignore_index=True)"
   ]
  },
  {
   "cell_type": "code",
   "execution_count": 7,
   "metadata": {},
   "outputs": [],
   "source": [
    "#학습을 위해 무작위로 순번을 변경하자\n",
    "train_set = df.reindex(permutation(df.index)).reset_index(drop=True)"
   ]
  },
  {
   "cell_type": "code",
   "execution_count": 8,
   "metadata": {},
   "outputs": [],
   "source": [
    "#(x1,x2)와 t를 각각 모은것을 Numpy의 array 오브젝트로 추출하자\n",
    "train_x = train_set[['x1','x2']].values\n",
    "# train_t의 경우 그냥 array오브젝트로 추출하면 1차원 배열(1*n)이 되게때문에\n",
    "# reshape를 통해 n*1 형의 모양으로 바꿔준다\n",
    "train_t = train_set['t'].values.reshape(([len(train_set),1]))"
   ]
  },
  {
   "cell_type": "code",
   "execution_count": 9,
   "metadata": {},
   "outputs": [],
   "source": [
    "x = tf.placeholder(tf.float32,[None,2])\n",
    "w = tf.Variable(tf.zeros([2,1]))\n",
    "w0 = tf.Variable(tf.zeros([1]))\n",
    "f = tf.matmul(x,w) + w0\n",
    "p = tf.sigmoid(f)"
   ]
  },
  {
   "cell_type": "code",
   "execution_count": 10,
   "metadata": {},
   "outputs": [],
   "source": [
    "# binary cross entropy를 통해서 loss를 추출해내는 모습\n",
    "t = tf.placeholder(tf.float32,[None,1])\n",
    "loss = -tf.reduce_sum(t*tf.log(p) + (1-t)*tf.log(1-p))\n",
    "train_step = tf.train.AdamOptimizer().minimize(loss)"
   ]
  },
  {
   "cell_type": "code",
   "execution_count": 11,
   "metadata": {},
   "outputs": [],
   "source": [
    "#추가적으로 정답률을 나타내는 계산식을 세워보자\n",
    "#여기서 나타나는 tf.sign은 값이 0 미안 , 0 , 0 초과 인 경우에 따라 값을 주는 함수이다\n",
    "#tf.reduce_mean 은 전체적인 평균을 구하는 식이다.\n",
    "#tf.cast 는 텐서를 새로운 형태로 캐스팅하는데 사용한다.\n",
    "correct_prediction = tf.equal(tf.sign(p-0.5),tf.sign(t-0.5))\n",
    "accuracy = tf.reduce_mean(tf.cast(correct_prediction,tf.float32))"
   ]
  },
  {
   "cell_type": "code",
   "execution_count": 17,
   "metadata": {},
   "outputs": [],
   "source": [
    "sess = tf.Session()\n",
    "sess.run(tf.global_variables_initializer())"
   ]
  },
  {
   "cell_type": "code",
   "execution_count": 19,
   "metadata": {},
   "outputs": [
    {
     "name": "stdout",
     "output_type": "stream",
     "text": [
      "Step: 2000, Loss: 3.534095, Accuracy: 0.942857\n",
      "Step: 4000, Loss: 3.483960, Accuracy: 0.942857\n",
      "Step: 6000, Loss: 3.460642, Accuracy: 0.942857\n",
      "Step: 8000, Loss: 3.453656, Accuracy: 0.942857\n",
      "Step: 10000, Loss: 3.452987, Accuracy: 0.942857\n",
      "Step: 12000, Loss: 3.452984, Accuracy: 0.942857\n",
      "Step: 14000, Loss: 3.452986, Accuracy: 0.942857\n",
      "Step: 16000, Loss: 3.452984, Accuracy: 0.942857\n",
      "Step: 18000, Loss: 3.452984, Accuracy: 0.942857\n",
      "Step: 20000, Loss: 3.452983, Accuracy: 0.942857\n"
     ]
    }
   ],
   "source": [
    "i = 0\n",
    "for _ in range(20000):\n",
    "    i += 1\n",
    "    sess.run(train_step, feed_dict = {x:train_x, t:train_t})\n",
    "    if i % 2000 == 0:\n",
    "        loss_val, acc_val = sess.run([loss,accuracy],feed_dict={x:train_x,t:train_t})\n",
    "        print('Step: %d, Loss: %f, Accuracy: %f' %(i,loss_val,acc_val))"
   ]
  },
  {
   "cell_type": "code",
   "execution_count": 21,
   "metadata": {},
   "outputs": [
    {
     "name": "stdout",
     "output_type": "stream",
     "text": [
      "-21.151854 0.7571539 0.66940254\n"
     ]
    }
   ],
   "source": [
    "w0_val, w_val = sess.run([w0,w])\n",
    "w0_val, w1_val, w2_val = w0_val[0],w_val[0][0],w_val[1][0]\n",
    "print(w0_val,w1_val,w2_val)"
   ]
  },
  {
   "cell_type": "code",
   "execution_count": 24,
   "metadata": {},
   "outputs": [
    {
     "data": {
      "text/plain": [
       "<matplotlib.image.AxesImage at 0x1c425de4fd0>"
      ]
     },
     "execution_count": 24,
     "metadata": {},
     "output_type": "execute_result"
    },
    {
     "data": {
      "image/png": "[encoded data removed]",
      "text/plain": [
       "<Figure size 432x432 with 1 Axes>"
      ]
     },
     "metadata": {
      "needs_background": "light"
     },
     "output_type": "display_data"
    }
   ],
   "source": [
    "train_set0 = train_set[train_set['t']==0]\n",
    "train_set1 = train_set[train_set['t']==1]\n",
    "\n",
    "fig = plt.figure(figsize=(6,6))\n",
    "subplot = fig.add_subplot(1,1,1)\n",
    "subplot.set_ylim([0,30])\n",
    "subplot.set_xlim([0,30])\n",
    "subplot.scatter(train_set1.x1,train_set1.x2,marker='x')\n",
    "subplot.scatter(train_set0.x1,train_set0.x2,marker='o')\n",
    "\n",
    "linex = np.linspace(0,30,10)\n",
    "liney = -(w1_val*linex/w2_val + w0_val/w2_val)\n",
    "subplot.plot(linex,liney)\n",
    "\n",
    "field = [[(1 / (1 + np.exp(-(w0_val + w1_val*x1 + w2_val*x2))))\n",
    "          for x1 in np.linspace(0,30,100)]\n",
    "         for x2 in np.linspace(0,30,100)]\n",
    "subplot.imshow(field, origin='lower', extent=(0,30,0,30),\n",
    "               cmap=plt.cm.gray_r, alpha=0.5)"
   ]
  }
 ],
 "metadata": {
  "kernelspec": {
   "display_name": "Python [conda env:tensorflow]",
   "language": "python",
   "name": "conda-env-tensorflow-py"
  },
  "language_info": {
   "codemirror_mode": {
    "name": "ipython",
    "version": 3
   },
   "file_extension": ".py",
   "mimetype": "text/x-python",
   "name": "python",
   "nbconvert_exporter": "python",
   "pygments_lexer": "ipython3",
   "version": "3.5.6"
  }
 },
 "nbformat": 4,
 "nbformat_minor": 2
}
